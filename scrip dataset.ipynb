{
 "cells": [
  {
   "cell_type": "code",
   "execution_count": 61,
   "id": "e531633f",
   "metadata": {},
   "outputs": [
    {
     "name": "stdout",
     "output_type": "stream",
     "text": [
      "\n",
      "Dataframe df_all_sheets berhasil dibuat:\n"
     ]
    }
   ],
   "source": [
    "import pandas as pd\n",
    "import numpy as np\n",
    "import re\n",
    "\n",
    "def is_row_empty_or_spaces(row):\n",
    "    for val in row:\n",
    "        if pd.isna(val):\n",
    "            continue\n",
    "        if isinstance(val, str) and val.strip() == '':\n",
    "            continue\n",
    "        return False\n",
    "    return True\n",
    "\n",
    "def clean_sheet_name(sheet_name):\n",
    "    return re.sub(r'\\W+', '_', sheet_name)\n",
    "\n",
    "file_path = r'D:\\data_set.xlsx'\n",
    "all_sheets = pd.read_excel(file_path, sheet_name=None)\n",
    "\n",
    "dataframe_names = []\n",
    "\n",
    "for sheet_name, df in all_sheets.items():\n",
    "    mask = df.apply(is_row_empty_or_spaces, axis=1)\n",
    "    df_cleaned = df[~mask].copy()\n",
    "\n",
    "    df_cleaned.insert(1, 'Klasis', sheet_name)\n",
    "\n",
    "    cleaned_name = clean_sheet_name(sheet_name)\n",
    "    df_name = 'df_' + cleaned_name\n",
    "\n",
    "    globals()[df_name] = df_cleaned\n",
    "\n",
    "    dataframe_names.append({'Sheet Name': sheet_name, 'DataFrame Name': df_name})\n",
    "\n",
    "    # print(f\"Dataframe '{df_name}' dibuat. Baris sebelum: {len(df)}, sesudah: {len(df_cleaned)}\")\n",
    "\n",
    "# Simpan daftar dataframe ke df_all_sheets\n",
    "df_all_sheets = pd.DataFrame(dataframe_names)\n",
    "\n",
    "print(\"\\nDataframe df_all_sheets berhasil dibuat:\")\n",
    "\n"
   ]
  },
  {
   "cell_type": "code",
   "execution_count": 62,
   "id": "55056316",
   "metadata": {},
   "outputs": [
    {
     "name": "stdout",
     "output_type": "stream",
     "text": [
      "\n",
      "Dataframe df_all_data berhasil dibuat. Total baris: 383\n"
     ]
    }
   ],
   "source": [
    "from bson import ObjectId\n",
    "\n",
    "# Gabungkan semua dataframe jadi satu\n",
    "df_all_data = pd.concat([globals()[entry['DataFrame Name']] for entry in dataframe_names], ignore_index=True)\n",
    "df_all_data.reset_index(drop=True, inplace=True)\n",
    "\n",
    "\n",
    "# Ganti kolom 'NO' menjadi 'ID' dan isi dengan ObjectId acak\n",
    "if 'NO' in df_all_data.columns:\n",
    "    df_all_data.drop(columns='NO', inplace=True)\n",
    "\n",
    "# Tambahkan kolom 'ID' dengan ID acak seperti MongoDB\n",
    "df_all_data.insert(0, '_id', [str(ObjectId()) for _ in range(len(df_all_data))])\n",
    "\n",
    "\n",
    "\n",
    "print(f\"\\nDataframe df_all_data berhasil dibuat. Total baris: {len(df_all_data)}\")\n"
   ]
  },
  {
   "cell_type": "code",
   "execution_count": 65,
   "id": "0104af73",
   "metadata": {},
   "outputs": [
    {
     "name": "stdout",
     "output_type": "stream",
     "text": [
      "Tidak ada _id yang duplikat.\n"
     ]
    }
   ],
   "source": [
    "# Cek apakah ada ID yang duplikat\n",
    "duplicates = df_all_data[df_all_data.duplicated(subset='_id', keep=False)]\n",
    "\n",
    "if not duplicates.empty:\n",
    "    print(f\"Ada {duplicates.shape[0]} baris dengan _id duplikat:\")\n",
    "    print(duplicates[['_id']].value_counts())\n",
    "else:\n",
    "    print(\"Tidak ada _id yang duplikat.\")\n"
   ]
  },
  {
   "cell_type": "code",
   "execution_count": 66,
   "id": "3ca7efee",
   "metadata": {},
   "outputs": [],
   "source": [
    "df_all_data = df_all_data.fillna(\"\")\n",
    "\n"
   ]
  },
  {
   "cell_type": "code",
   "execution_count": 69,
   "id": "a8a84f6a",
   "metadata": {},
   "outputs": [],
   "source": [
    "result_json = []\n",
    "for _, row in df_all_data.iterrows():\n",
    "    item = {\n",
    "        \"_id\": row[\"_id\"],\n",
    "        \"Klasis\": row[\"Klasis\"],\n",
    "        \"Nama Gereja\": row[\"Nama Gereja\"],\n",
    "        \"PERSEKUTUAN\": {\n",
    "            \"Tahun\": row[\"PERSEKUTUAN_Tahun\"],\n",
    "            \"Tempat\": row[\"PERSEKUTUAN_Tempat\"],\n",
    "            \"Hamba Tuhan Yang Memulai\": row[\"PERSEKUTUAN_Hamba Tuhan Yang Memulai\"],\n",
    "            \"Orang-Orang Yang Berperan\": row[\"PERSEKUTUAN_Orang-Orang Yang Berperan\"],\n",
    "            \"Cara Memulai\": row[\"PERSEKUTUAN_Cara Memulai\"],\n",
    "            \"Alasan Memulai\": row[\"PERSEKUTUAN_Alasan Memulai\"]\n",
    "        },\n",
    "        \"POS PI\": {\n",
    "            \"Tahun\": row[\"POS PI_Tahun\"],\n",
    "            \"Tempat\": row[\"POS PI_Tempat\"],\n",
    "            \"Hamba Tuhan Yang Memulai\": row[\"POS PI_Orang-Orang Yang Berperan\"],\n",
    "            \"Orang-Orang Yang Berperan\": row[\"POS PI_Orang-Orang Yang Berperan\"],\n",
    "            \"Cara Memulai\": row[\"POS PI_Cara Memulai\"],\n",
    "            \"Alasan Memulai\": row[\"POS PI_Alasan Memulai\"]\n",
    "        },\n",
    "        \"CABANG KEBAKTIAN\": {\n",
    "            \"Tahun\": row[\"CABANG KEBAKTIAN_Tahun\"],\n",
    "            \"Tempat\": row[\"CABANG KEBAKTIAN_Tempat\"],\n",
    "            \"Hamba Tuhan Yang Memulai\": row[\"CABANG KEBAKTIAN_Hamba Tuhan Yang Memulai\"],\n",
    "            \"Orang-Orang Yang Berperan\": row[\"CABANG KEBAKTIAN_Orang-Orang Yang Berperan\"],\n",
    "            \"Cara Memulai\": row[\"CABANG KEBAKTIAN_Cara Memulai\"],\n",
    "            \"Alasan Memulai\": row[\"CABANG KEBAKTIAN_Alasan Memulai\"]\n",
    "        },\n",
    "        \"JEMAAT LOKAL\": {\n",
    "            \"Tahun\": row[\"JEMAAT LOKAL_Tahun\"],\n",
    "            \"Tempat\": row[\"JEMAAT LOKAL_Tempat\"],\n",
    "            \"Hamba Tuhan Yang Memulai\": row[\"JEMAAT LOKAL_Hamba Tuhan Yang Memulai\"],\n",
    "            \"Orang-Orang Yang Berperan\": row[\"JEMAAT LOKAL_Orang-Orang Yang Berperan\"],\n",
    "            \"Cara Memulai\": row[\"JEMAAT LOKAL_Cara Memulai\"],\n",
    "            \"Alasan Memulai\": row[\"JEMAAT LOKAL_Alasan Memulai\"]\n",
    "        },\n",
    "        \"Keterangan\": row[\"KETERANGAN\"]\n",
    "    }\n",
    "    result_json.append(item)"
   ]
  },
  {
   "cell_type": "code",
   "execution_count": 70,
   "id": "697b9c14",
   "metadata": {},
   "outputs": [],
   "source": [
    "import json\n",
    "\n",
    "with open(\"D:/data_set_history_kibaid.json\", \"w\", encoding=\"utf-8\") as f:\n",
    "    json.dump(result_json, f, ensure_ascii=False, indent=2, default=str)\n"
   ]
  }
 ],
 "metadata": {
  "kernelspec": {
   "display_name": "Python 3",
   "language": "python",
   "name": "python3"
  },
  "language_info": {
   "codemirror_mode": {
    "name": "ipython",
    "version": 3
   },
   "file_extension": ".py",
   "mimetype": "text/x-python",
   "name": "python",
   "nbconvert_exporter": "python",
   "pygments_lexer": "ipython3",
   "version": "3.11.8"
  }
 },
 "nbformat": 4,
 "nbformat_minor": 5
}
